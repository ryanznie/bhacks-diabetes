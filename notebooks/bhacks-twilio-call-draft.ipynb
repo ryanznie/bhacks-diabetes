{
 "cells": [
  {
   "cell_type": "code",
   "execution_count": 2,
   "id": "b7b57c31",
   "metadata": {},
   "outputs": [],
   "source": [
    "import datetime"
   ]
  },
  {
   "cell_type": "code",
   "execution_count": 7,
   "id": "fdefc21e",
   "metadata": {},
   "outputs": [
    {
     "name": "stdout",
     "output_type": "stream",
     "text": [
      "2023-04-20 03:30:00\n"
     ]
    }
   ],
   "source": [
    "appt_day = datetime.datetime(2023,4,20,3,30,0)\n",
    "print(appt_day)"
   ]
  },
  {
   "cell_type": "code",
   "execution_count": null,
   "id": "b05a0460",
   "metadata": {},
   "outputs": [],
   "source": [
    "import os\n",
    "from twilio.rest import Client\n",
    "from datetime import timedelta\n",
    "\n",
    "account_sid = os.environ['TWILIO_ACCOUNT_SID']\n",
    "auth_token = os.environ['TWILIO_AUTH_TOKEN']\n",
    "client = Client(account_sid, auth_token)\n",
    "\n",
    "if (datetime.date.today() + timedelta(days=1) == appt_day):\n",
    "    call = client.calls.create(\n",
    "                            url='http://demo.twilio.com/docs/voice.xml',\n",
    "                            to='+14155551212',\n",
    "                            from_='+10000000000')\n",
    "\n",
    "    print(call.sid)"
   ]
  },
  {
   "cell_type": "code",
   "execution_count": null,
   "id": "d8e7df1a",
   "metadata": {},
   "outputs": [],
   "source": [
    "from twilio.twiml.voice_response import VoiceResponse, Say\n",
    "\n",
    "response = VoiceResponse()\n",
    "response.say(f'Hi, you have an appointment coming up on {appt_day}')\n",
    "\n",
    "print(response)"
   ]
  }
 ],
 "metadata": {
  "kernelspec": {
   "display_name": "Python myenv",
   "language": "python",
   "name": "myenv"
  },
  "language_info": {
   "codemirror_mode": {
    "name": "ipython",
    "version": 3
   },
   "file_extension": ".py",
   "mimetype": "text/x-python",
   "name": "python",
   "nbconvert_exporter": "python",
   "pygments_lexer": "ipython3",
   "version": "3.7.11"
  }
 },
 "nbformat": 4,
 "nbformat_minor": 5
}
